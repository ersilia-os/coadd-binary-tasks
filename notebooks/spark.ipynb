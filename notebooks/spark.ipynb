{
 "cells": [
  {
   "cell_type": "code",
   "execution_count": 2,
   "metadata": {},
   "outputs": [],
   "source": [
    "import pandas as pd\n",
    "import os\n",
    "\n",
    "DATAPATH = \"../data/spark\"\n",
    "\n",
    "data_files=os.listdir(DATAPATH)\n",
    "data_files = [d for d in data_files if d.endswith(\".csv\")]"
   ]
  },
  {
   "cell_type": "code",
   "execution_count": 7,
   "metadata": {},
   "outputs": [
    {
     "name": "stdout",
     "output_type": "stream",
     "text": [
      "SPARK Accumulation Data.csv 1649\n",
      "SPARK Data Merck & Kyorin Contribution.csv 2075\n",
      "SPARK Data Quave Lab {Emory University} Publications.csv 6446\n",
      "SPARK Data Compounds & Physicochemical Properties.csv 162663\n",
      "SPARK MIC Data.csv 137572\n",
      "SPARK IC50 Data.csv 5462\n",
      "SPARK Data CO-ADD Contribution.csv 82229\n",
      "SPARK Data Achaogen Contribution.csv 58749\n",
      "SPARK Data Novartis Contribution.csv 13757\n"
     ]
    }
   ],
   "source": [
    "#create small versions of all files for testing\n",
    "\n",
    "for d in data_files:\n",
    "    df = pd.read_csv(os.path.join(DATAPATH,d), low_memory=False)\n",
    "    print(d, len(df))\n",
    "    df = df.head(20)\n",
    "    df.to_csv(os.path.join(DATAPATH,\"small_\"+d),index=False)"
   ]
  },
  {
   "cell_type": "code",
   "execution_count": 15,
   "metadata": {},
   "outputs": [
    {
     "data": {
      "text/plain": [
       "464"
      ]
     },
     "execution_count": 15,
     "metadata": {},
     "output_type": "execute_result"
    }
   ],
   "source": [
    "df = pd.read_csv(os.path.join(DATAPATH,\"SPARK Accumulation Data.csv\"), low_memory=False)\n",
    "df.groupby(\"Curated & Transformed Accumulation Data: Species\").size()\n",
    "df[\"SMILES\"].nunique()"
   ]
  },
  {
   "cell_type": "code",
   "execution_count": 20,
   "metadata": {},
   "outputs": [
    {
     "data": {
      "text/plain": [
       "Curated & Transformed MIC Data: Species\n",
       "Acinetobacter baumannii     252\n",
       "Escherichia coli            500\n",
       "Pseudomonas aeruginosa     1000\n",
       "Staphylococcus aureus       249\n",
       "dtype: int64"
      ]
     },
     "execution_count": 20,
     "metadata": {},
     "output_type": "execute_result"
    }
   ],
   "source": [
    "df = pd.read_csv(os.path.join(DATAPATH,\"SPARK Data Merck & Kyorin Contribution.csv\"), low_memory=False)\n",
    "df.columns\n",
    "df[\"SMILES\"].nunique()\n",
    "df.groupby(\"Curated & Transformed MIC Data: Species\").size()"
   ]
  },
  {
   "cell_type": "code",
   "execution_count": null,
   "metadata": {},
   "outputs": [
    {
     "data": {
      "text/plain": [
       "1483"
      ]
     },
     "execution_count": 42,
     "metadata": {},
     "output_type": "execute_result"
    }
   ],
   "source": [
    "df = pd.read_csv(os.path.join(DATAPATH,\"SPARK Data Quave Lab {Emory University} Publications.csv\"), low_memory=False)\n",
    "df.columns\n",
    "df=df[~df['SMILES'].isna()]\n",
    "len(df)\n",
    "len(df[\"SMILES\"].unique())\n",
    "len(df[df['Porras 2020 Chem. Rev. XX:XXXX: MIC (in µM) (µM)'].isna()])\n",
    "len(df['Porras 2020 Chem. Rev. XX:XXXX: Species'].unique())"
   ]
  },
  {
   "cell_type": "code",
   "execution_count": 46,
   "metadata": {},
   "outputs": [
    {
     "data": {
      "text/plain": [
       "Curated & Transformed IC50 Data: Species\n",
       "Escherichia coli          140\n",
       "Pseudomonas aeruginosa     25\n",
       "dtype: int64"
      ]
     },
     "execution_count": 46,
     "metadata": {},
     "output_type": "execute_result"
    }
   ],
   "source": [
    "df = pd.read_csv(os.path.join(DATAPATH,\"SPARK Data Novartis Contribution.csv\"), low_memory=False)\n",
    "df.columns\n",
    "df[\"SMILES\"].nunique()\n",
    "df.groupby(\"Curated & Transformed MIC Data: Species\").size()\n",
    "df.groupby(\"Curated & Transformed IC50 Data: Species\").size()"
   ]
  },
  {
   "cell_type": "code",
   "execution_count": null,
   "metadata": {},
   "outputs": [
    {
     "name": "stdout",
     "output_type": "stream",
     "text": [
      "Compound Name\n",
      "SMILES\n",
      "Synonyms\n",
      " SPARK Terms of Use\n",
      " SPARK Data Downloads\n",
      "Batch Compound-Batch ID\n",
      "Compound ID - Source\n",
      "SPARK Terms of Use and Data Downloads: SPARK Terms of Use\n",
      "SPARK Terms of Use and Data Downloads: SPARK Data Downloads\n",
      "Curated & Transformed MIC Data: Subset Person\n",
      "Curated & Transformed MIC Data: Subset Conditions\n",
      "Curated & Transformed MIC Data: MIC (µg/mL)\n",
      "Curated & Transformed MIC Data: Test Article Type\n",
      "Curated & Transformed MIC Data: MIC (in µM) (µM)\n",
      "Curated & Transformed MIC Data: Threshold of growth inhibition\n",
      "Curated & Transformed MIC Data: pMIC\n",
      "Curated & Transformed MIC Data: Species\n",
      "Curated & Transformed MIC Data: Strain\n",
      "Curated & Transformed MIC Data: Strain - Other IDs\n",
      "Curated & Transformed MIC Data: Clinical isolate?\n",
      "Curated & Transformed MIC Data: Accumulation phenotype\n",
      "Curated & Transformed MIC Data: Strain Genotype\n",
      "Curated & Transformed MIC Data: Strain notes\n",
      "Curated & Transformed MIC Data: Additives\n",
      "Curated & Transformed MIC Data: Solvent\n",
      "Curated & Transformed MIC Data: Solvent Amt. (%)\n",
      "Curated & Transformed MIC Data: Media\n",
      "Curated & Transformed MIC Data: Method used\n",
      "Curated & Transformed MIC Data: Source\n",
      "Curated & Transformed MIC Data: Curation Date\n",
      "Achaogen LpxC MIC Data: Subset Conditions\n",
      "Achaogen LpxC MIC Data: MIC (ug/mL)\n",
      "Achaogen LpxC MIC Data: MIC/GIC reported as\n",
      "Achaogen LpxC MIC Data: Test Article Type\n",
      "Achaogen LpxC MIC Data: Threshold of growth inhibition\n",
      "Achaogen LpxC MIC Data: MIC (in uM) (uM)\n",
      "Achaogen LpxC MIC Data: Species\n",
      "Achaogen LpxC MIC Data: pMIC\n",
      "Achaogen LpxC MIC Data: Strain\n",
      "Achaogen LpxC MIC Data: Solvent\n",
      "Achaogen LpxC MIC Data: Solvent Amt. (%)\n",
      "Achaogen LpxC MIC Data: Media\n",
      "Achaogen LpxC MIC Data: Method used\n",
      "Achaogen LpxC MIC Data: Source\n",
      "Achaogen LpxC MIC Data: Curation Date\n",
      "Curated & Transformed IC50 Data: Subset Conditions\n",
      "Curated & Transformed IC50 Data: IC50 (nM)\n",
      "Curated & Transformed IC50 Data: IC50 (uM) (uM)\n",
      "Curated & Transformed IC50 Data: Test Article Type\n",
      "Curated & Transformed IC50 Data: pIC50\n",
      "Curated & Transformed IC50 Data: lower CI (nM)\n",
      "Curated & Transformed IC50 Data: upper CI (nM)\n",
      "Curated & Transformed IC50 Data: Target ID\n",
      "Curated & Transformed IC50 Data: Molecular Target Name\n",
      "Curated & Transformed IC50 Data: Molecular Target Synonym\n",
      "Curated & Transformed IC50 Data: Species\n",
      "Curated & Transformed IC50 Data: Target format\n",
      "Curated & Transformed IC50 Data: Source\n",
      "Curated & Transformed IC50 Data: Curation Date\n",
      "Achaogen Protein Binding Data: Subset Conditions\n",
      "Achaogen Protein Binding Data: Human Fraction Free (%)\n",
      "Achaogen Protein Binding Data: Human Fraction Free N\n",
      "Achaogen Protein Binding Data: NHP (Cyno) Fraction Free (%)\n",
      "Achaogen Protein Binding Data: NHP (Cyno) Fraction Free (N)\n",
      "Achaogen Protein Binding Data: Dog (Beagle) Fraction Free (%)\n",
      "Achaogen Protein Binding Data: Dog (Beagle) N\n",
      "Achaogen Protein Binding Data: Mouse Fraction Free (%)\n",
      "Achaogen Protein Binding Data: Mouse Fraction Free (N)\n",
      "Achaogen Protein Binding Data: Rat Fraction Free (%)\n",
      "Achaogen Protein Binding Data: Rat Fraction Free (N)\n",
      "Achaogen Protein Binding Data: Incubation Concentration\n",
      "Achaogen Protein Binding Data: Incubation Concentration Units\n",
      "Achaogen Protein Binding Data: Test Method\n",
      "Achaogen Cytotox Data: Subset Conditions\n",
      "Achaogen Cytotox Data: IC50 (uM)\n",
      "Achaogen Cytotox Data: IC50 Fit Error (uM)\n",
      "Achaogen Cytotox Data: R-Squared\n",
      "Achaogen Cytotox Data: IC50 Std Dev (uM)\n",
      "Achaogen Cytotox Data: N\n",
      "Achaogen LpxC MIC50/90 data: Subset Conditions\n",
      "Achaogen LpxC MIC50/90 data: MIC50 (ug/mL)\n",
      "Achaogen LpxC MIC50/90 data: MIC90 (ug/mL)\n",
      "Achaogen LpxC MIC50/90 data: Min MIC (ug/mL)\n",
      "Achaogen LpxC MIC50/90 data: Max MIC (ug/mL)\n",
      "Achaogen LpxC MIC50/90 data: Secondary Panel Name\n",
      "Achaogen Pae Clinical Isolate Panel Data: Subset Conditions\n",
      "Achaogen Pae Clinical Isolate Panel Data: MIC5 (ug/mL)\n",
      "Achaogen LpxC PK data: Subset Conditions\n",
      "Achaogen LpxC PK data: Analyte\n",
      "Achaogen LpxC PK data: AUC 0-inf (hr*µg/mL)\n",
      "Achaogen LpxC PK data: AUC 0-t (hr*µg/mL)\n",
      "Achaogen LpxC PK data: C0 (µg/mL)\n",
      "Achaogen LpxC PK data: CL (L/hr/kg)\n",
      "Achaogen LpxC PK data: CMax (µg/mL)\n",
      "Achaogen LpxC PK data: Dose (mg/kg)\n",
      "Achaogen LpxC PK data: Dose Equivalents Active (mg/kg)\n",
      "Achaogen LpxC PK data: Formulation\n",
      "Achaogen LpxC PK data: Mean Free AUC 0-t (hr*µg/mL)\n",
      "Achaogen LpxC PK data: Mean Free CL (L/hr/kg)\n",
      "Achaogen LpxC PK data: Mean Free CMax (µg/mL)\n",
      "Achaogen LpxC PK data: Route of Administration\n",
      "Achaogen LpxC PK data: Species\n",
      "Achaogen LpxC PK data: Study Date\n",
      "Achaogen LpxC PK data: TMax (hr)\n",
      "Achaogen LpxC PK data: Vss (L/kg)\n"
     ]
    }
   ],
   "source": [
    "df = pd.read_csv(os.path.join(DATAPATH,\"SPARK Data Achaogen Contribution.csv\"), low_memory=False)\n",
    "cols = df.columns\n",
    "for c in cols:\n",
    "    print(c)\n",
    "df[\"SMILES\"].nunique()\n",
    "df_ = df[~df['Achaogen LpxC MIC50/90 data: MIC90 (ug/mL)'].isna()]\n",
    "#df_.groupby(\"Curated & Transformed IC50 Data: Species\").size()\n",
    "df_[\"SMILES\"].unique()"
   ]
  },
  {
   "cell_type": "code",
   "execution_count": 83,
   "metadata": {},
   "outputs": [
    {
     "data": {
      "text/plain": [
       "CO-ADD Single Concentration Data (Inhibition): Species\n",
       "Acinetobacter baumannii    23159\n",
       "Escherichia coli            5350\n",
       "Klebsiella pneumoniae       5349\n",
       "Pseudomonas aeruginosa     40969\n",
       "dtype: int64"
      ]
     },
     "execution_count": 83,
     "metadata": {},
     "output_type": "execute_result"
    }
   ],
   "source": [
    "df = pd.read_csv(os.path.join(DATAPATH,\"SPARK Data CO-ADD Contribution.csv\"), low_memory=False)\n",
    "df.columns\n",
    "df[\"SMILES\"].nunique()\n",
    "df.groupby('CO-ADD Single Concentration Data (Inhibition): Species').size()"
   ]
  },
  {
   "cell_type": "code",
   "execution_count": 88,
   "metadata": {},
   "outputs": [
    {
     "data": {
      "text/plain": [
       "Extracted & Uploaded IC50 Data: Species\n",
       "Acinetobacter baumannii                      120\n",
       "Aquifex aeolicus                               7\n",
       "Bacillus subtilis                             23\n",
       "Citrobacter freundii                           1\n",
       "Enterobacter cloacae                          30\n",
       "Enterococcus faecium                          30\n",
       "Escherichia coli                            1842\n",
       "Escherichia coli + Staphylococcus aureus      15\n",
       "Francisella tularensis                        53\n",
       "Francisella tularensis subsp. Tularensis      13\n",
       "Haemophilus influenzae                        14\n",
       "Klebsiella pneumoniae                         63\n",
       "Mycobacterium tuberculosis                   124\n",
       "Pseudomonas aeruginosa                       526\n",
       "Staphylococcus aureus                        235\n",
       "Staphylococcus aureus subsp. aureus           29\n",
       "Streptococcus pneumoniae                      42\n",
       "dtype: int64"
      ]
     },
     "execution_count": 88,
     "metadata": {},
     "output_type": "execute_result"
    }
   ],
   "source": [
    "df = pd.read_csv(os.path.join(DATAPATH,\"SPARK IC50 Data.csv\"), low_memory=False)\n",
    "df.columns\n",
    "df[\"SMILES\"].nunique()\n",
    "df.groupby('Extracted & Uploaded IC50 Data: Species').size()"
   ]
  },
  {
   "cell_type": "code",
   "execution_count": 7,
   "metadata": {},
   "outputs": [
    {
     "name": "stdout",
     "output_type": "stream",
     "text": [
      "Compound Name\n",
      "SMILES\n",
      "Synonyms\n",
      " SPARK Terms of Use\n",
      " SPARK Data Downloads\n",
      "Plant family\n",
      "Extraction type\n",
      "Country\n",
      "Tissue (extraction source)\n",
      "Family (extraction source)\n",
      "Extraction source (full name)\n",
      "Extraction source (tissue)\n",
      "Extraction source (family)\n",
      "Plant name\n",
      "Tissue\n",
      "DOS_LIBRARY\n",
      "Plant species/author epithet\n",
      "Plant genus\n",
      "Plant name (full)\n",
      "Previously listed as\n",
      "SOURCE\n",
      "STEREOCHEMISTRY\n",
      "idStereoParent\n",
      "FULL_CONFIG\n",
      "Batch Name\n",
      "Batch Compound-Batch ID\n",
      "Batch Salt\n",
      "Batch Formula weight\n",
      "Initial Amount\n",
      "Current Amount\n",
      "Location\n",
      "Alternate Names\n",
      "Additional Names\n",
      "Additional Names 2\n",
      "Code/Source\n",
      "Chembl #\n",
      "Chembl link\n",
      "Pubchem #\n",
      "Pubchem Link\n",
      "PubMed ID\n",
      "DOI\n",
      "Alternate Src Info\n",
      "Alternate Source ID\n",
      "Compound ID - Source\n",
      "External ID\n",
      "Common Name\n",
      "Brand\n",
      "Synonyms.1\n",
      "CAS\n",
      "Compound Class\n",
      "Compound SubClass\n",
      "Compound Type\n",
      "Target\n",
      "Effect\n",
      "ModeOfAction\n",
      "Administration\n",
      "Development Status\n",
      "Approval Date\n",
      "Licensee\n",
      "Indication\n",
      "ModelSplit\n",
      "Scaffold\n",
      "Charge\n",
      "clogD7.4\n",
      "CO-ADD Project ID\n",
      "CO-ADD Library Name\n",
      " SPARK Terms of Use and Data Downloads: Subset Date\n",
      " SPARK Terms of Use and Data Downloads: Subset Person\n",
      " SPARK Terms of Use and Data Downloads: Subset Lab\n",
      " SPARK Terms of Use and Data Downloads: Subset Conditions\n",
      " SPARK Terms of Use and Data Downloads: Subset ELN Entry\n",
      " SPARK Terms of Use and Data Downloads: Project Name\n",
      " SPARK Terms of Use and Data Downloads: SPARK Terms of Use\n",
      " SPARK Terms of Use and Data Downloads: SPARK Data Downloads\n",
      "Curated & Transformed MIC Data: Subset Date\n",
      "Curated & Transformed MIC Data: Subset Person\n",
      "Curated & Transformed MIC Data: Subset Lab\n",
      "Curated & Transformed MIC Data: Subset Conditions\n",
      "Curated & Transformed MIC Data: Subset ELN Entry\n",
      "Curated & Transformed MIC Data: Project Name\n",
      "Curated & Transformed MIC Data: MIC (µg/mL)\n",
      "Curated & Transformed MIC Data: MIC/GIC reported as\n",
      "Curated & Transformed MIC Data: MIC value (µg/mL)\n",
      "Curated & Transformed MIC Data: Test Article Type\n",
      "Curated & Transformed MIC Data: MIC (in µM) (µM)\n",
      "Curated & Transformed MIC Data: Threshold of growth inhibition\n",
      "Curated & Transformed MIC Data: pMIC\n",
      "Curated & Transformed MIC Data: GIC (µg/mL)\n",
      "Curated & Transformed MIC Data: GIC % inhibition\n",
      "Curated & Transformed MIC Data: Species\n",
      "Curated & Transformed MIC Data: Strain\n",
      "Curated & Transformed MIC Data: Strain - Other IDs\n",
      "Curated & Transformed MIC Data: Clinical isolate?\n",
      "Curated & Transformed MIC Data: Accumulation phenotype\n",
      "Curated & Transformed MIC Data: Strain Genotype\n",
      "Curated & Transformed MIC Data: Strain notes\n",
      "Curated & Transformed MIC Data: Phenotype\n",
      "Curated & Transformed MIC Data: Additives\n",
      "Curated & Transformed MIC Data: Solvent\n",
      "Curated & Transformed MIC Data: Solvent Amt. (%)\n",
      "Curated & Transformed MIC Data: Condition\n",
      "Curated & Transformed MIC Data: Media\n",
      "Curated & Transformed MIC Data: Buffered?\n",
      "Curated & Transformed MIC Data: Method used\n",
      "Curated & Transformed MIC Data: Source\n",
      "Curated & Transformed MIC Data: Source - Link to original data\n",
      "Curated & Transformed MIC Data: DOI\n",
      "Curated & Transformed MIC Data: Curator notes\n",
      "Curated & Transformed MIC Data: Curation Date\n",
      "Extracted & Uploaded MIC Data: Subset Date\n",
      "Extracted & Uploaded MIC Data: Subset Person\n",
      "Extracted & Uploaded MIC Data: Subset Lab\n",
      "Extracted & Uploaded MIC Data: Subset Conditions\n",
      "Extracted & Uploaded MIC Data: Subset ELN Entry\n",
      "Extracted & Uploaded MIC Data: Project Name\n",
      "Extracted & Uploaded MIC Data: MIC (µg/mL)\n",
      "Extracted & Uploaded MIC Data: MIC/GIC reported as\n",
      "Extracted & Uploaded MIC Data: MIC (in µM) (µM)\n",
      "Extracted & Uploaded MIC Data: Test Article Type\n",
      "Extracted & Uploaded MIC Data: Threshold of growth inhibition\n",
      "Extracted & Uploaded MIC Data: pMIC\n",
      "Extracted & Uploaded MIC Data: GIC (Growth Inhibition Concentration) (µg/mL)\n",
      "Extracted & Uploaded MIC Data: GIC % Inhibition (%)\n",
      "Extracted & Uploaded MIC Data: Species\n",
      "Extracted & Uploaded MIC Data: Strain\n",
      "Extracted & Uploaded MIC Data: Strain - Other IDs\n",
      "Extracted & Uploaded MIC Data: Clinical Isolate?\n",
      "Extracted & Uploaded MIC Data: Accumulation phenotype\n",
      "Extracted & Uploaded MIC Data: Strain Genotype\n",
      "Extracted & Uploaded MIC Data: Strain notes\n",
      "Extracted & Uploaded MIC Data: Phenotype\n",
      "Extracted & Uploaded MIC Data: Additives\n",
      "Extracted & Uploaded MIC Data: Solvent\n",
      "Extracted & Uploaded MIC Data: Solvent Amt (%)\n",
      "Extracted & Uploaded MIC Data: Condition\n",
      "Extracted & Uploaded MIC Data: Media\n",
      "Extracted & Uploaded MIC Data: Methods used\n",
      "Extracted & Uploaded MIC Data: Buffered?\n",
      "Extracted & Uploaded MIC Data: Source\n",
      "Extracted & Uploaded MIC Data: Year\n",
      "Extracted & Uploaded MIC Data: Data Source Type\n",
      "Extracted & Uploaded MIC Data: DOI\n",
      "Extracted & Uploaded MIC Data: Chembl Activity ID\n",
      "Extracted & Uploaded MIC Data: Extractor\n",
      "Extracted & Uploaded MIC Data: Extractor notes\n",
      "Extracted & Uploaded MIC Data: Upload Date\n",
      "Extracted & Uploaded MIC Data: Upload Automation\n",
      "Extracted & Uploaded MIC Data: Values converted by Extractor?\n"
     ]
    }
   ],
   "source": [
    "df = pd.read_csv(os.path.join(DATAPATH,\"SPARK MIC Data.csv\"), low_memory=False)\n",
    "cols = df.columns\n",
    "for c in cols:\n",
    "    print(c)"
   ]
  },
  {
   "cell_type": "code",
   "execution_count": 11,
   "metadata": {},
   "outputs": [
    {
     "name": "stdout",
     "output_type": "stream",
     "text": [
      "Rows with values in 'Curated & Transformed MIC Data: MIC (µg/mL)' but not in 'Curated & Transformed MIC Data: MIC value (µg/mL)': 0\n",
      "Rows with values in 'Curated & Transformed MIC Data: MIC value (µg/mL)' but not in 'Curated & Transformed MIC Data: MIC (µg/mL)': 0\n",
      "Rows with values in 'Curated & Transformed MIC Data: MIC (µg/mL)' but not in 'Curated & Transformed MIC Data: MIC (in µM) (µM)': 0\n",
      "Rows with values in 'Curated & Transformed MIC Data: MIC (in µM) (µM)' but not in 'Curated & Transformed MIC Data: MIC (µg/mL)': 0\n",
      "Rows with values in 'Curated & Transformed MIC Data: pMIC' but not in 'Curated & Transformed MIC Data: MIC (in µM) (µM)': 0\n",
      "Rows with values in 'Curated & Transformed MIC Data: MIC (in µM) (µM)' but not in 'Curated & Transformed MIC Data: pMIC': 0\n",
      "Rows with values in 'Curated & Transformed MIC Data: GIC (µg/mL)' but not in 'Curated & Transformed MIC Data: MIC (in µM) (µM)': 1693\n",
      "Rows with values in 'Curated & Transformed MIC Data: MIC (in µM) (µM)' but not in 'Curated & Transformed MIC Data: GIC (µg/mL)': 130445\n",
      "Rows with values in 'Curated & Transformed MIC Data: GIC (µg/mL)' but not in 'Curated & Transformed MIC Data: GIC % inhibition': 0\n",
      "Rows with values in 'Curated & Transformed MIC Data: GIC % inhibition' but not in 'Curated & Transformed MIC Data: GIC (µg/mL)': 0\n",
      "Rows with values in 'Extracted & Uploaded MIC Data: MIC (µg/mL)' but not in 'Extracted & Uploaded MIC Data: MIC (in µM) (µM)': 0\n",
      "Rows with values in 'Extracted & Uploaded MIC Data: MIC (in µM) (µM)' but not in 'Extracted & Uploaded MIC Data: MIC (µg/mL)': 0\n",
      "Rows with values in 'Extracted & Uploaded MIC Data: pMIC' but not in 'Extracted & Uploaded MIC Data: MIC (in µM) (µM)': 0\n",
      "Rows with values in 'Extracted & Uploaded MIC Data: MIC (in µM) (µM)' but not in 'Extracted & Uploaded MIC Data: pMIC': 0\n",
      "Rows with values in 'Extracted & Uploaded MIC Data: GIC (Growth Inhibition Concentration) (µg/mL)' but not in 'Extracted & Uploaded MIC Data: MIC (in µM) (µM)': 68\n",
      "Rows with values in 'Extracted & Uploaded MIC Data: MIC (in µM) (µM)' but not in 'Extracted & Uploaded MIC Data: GIC (Growth Inhibition Concentration) (µg/mL)': 57525\n",
      "Rows with values in 'Extracted & Uploaded MIC Data: GIC (Growth Inhibition Concentration) (µg/mL)' but not in 'Extracted & Uploaded MIC Data: GIC % Inhibition (%)': 5\n",
      "Rows with values in 'Extracted & Uploaded MIC Data: GIC % Inhibition (%)' but not in 'Extracted & Uploaded MIC Data: GIC (Growth Inhibition Concentration) (µg/mL)': 0\n",
      "Rows with values in 'Curated & Transformed MIC Data: MIC (in µM) (µM)' but not in 'Extracted & Uploaded MIC Data: MIC (in µM) (µM)': 76998\n",
      "Rows with values in 'Extracted & Uploaded MIC Data: MIC (in µM) (µM)' but not in 'Curated & Transformed MIC Data: MIC (in µM) (µM)': 4083\n"
     ]
    }
   ],
   "source": [
    "# check if experiments are properly translated between different ways of representing\n",
    "def check_discrepancies(df, col1, col2):\n",
    "    # Check for rows with values in column1 but not in column2\n",
    "    col1_not_col2 = df[col1].notna() & df[col2].isna()\n",
    "    # Check for rows with values in column2 but not in column1\n",
    "    col2_not_col1 = df[col2].notna() & df[col1].isna()\n",
    "    print(f\"Rows with values in '{col1}' but not in '{col2}': {col1_not_col2.sum()}\")\n",
    "    print(f\"Rows with values in '{col2}' but not in '{col1}': {col2_not_col1.sum()}\")\n",
    "\n",
    "check_discrepancies(df,'Curated & Transformed MIC Data: MIC (µg/mL)', 'Curated & Transformed MIC Data: MIC value (µg/mL)')\n",
    "check_discrepancies(df,'Curated & Transformed MIC Data: MIC (µg/mL)', 'Curated & Transformed MIC Data: MIC (in µM) (µM)')\n",
    "check_discrepancies(df,'Curated & Transformed MIC Data: pMIC', 'Curated & Transformed MIC Data: MIC (in µM) (µM)')\n",
    "check_discrepancies(df,'Curated & Transformed MIC Data: GIC (µg/mL)', 'Curated & Transformed MIC Data: MIC (in µM) (µM)')\n",
    "check_discrepancies(df,'Curated & Transformed MIC Data: GIC (µg/mL)', 'Curated & Transformed MIC Data: GIC % inhibition')\n",
    "\n",
    "check_discrepancies(df,'Extracted & Uploaded MIC Data: MIC (µg/mL)', 'Extracted & Uploaded MIC Data: MIC (in µM) (µM)')\n",
    "check_discrepancies(df,'Extracted & Uploaded MIC Data: pMIC', 'Extracted & Uploaded MIC Data: MIC (in µM) (µM)')\n",
    "check_discrepancies(df,'Extracted & Uploaded MIC Data: GIC (Growth Inhibition Concentration) (µg/mL)', 'Extracted & Uploaded MIC Data: MIC (in µM) (µM)')\n",
    "check_discrepancies(df,'Extracted & Uploaded MIC Data: GIC (Growth Inhibition Concentration) (µg/mL)', 'Extracted & Uploaded MIC Data: GIC % Inhibition (%)')\n",
    "\n",
    "check_discrepancies(df,'Curated & Transformed MIC Data: MIC (in µM) (µM)', 'Extracted & Uploaded MIC Data: MIC (in µM) (µM)')"
   ]
  },
  {
   "cell_type": "code",
   "execution_count": 12,
   "metadata": {},
   "outputs": [
    {
     "name": "stdout",
     "output_type": "stream",
     "text": [
      "Rows with values in both 'Curated & Transformed MIC Data: MIC (µg/mL)' and 'Curated & Transformed MIC Data: MIC value (µg/mL)': 130445\n",
      "Rows with values in both 'Curated & Transformed MIC Data: MIC (µg/mL)' and 'Curated & Transformed MIC Data: MIC (in µM) (µM)': 130445\n",
      "Rows with values in both 'Curated & Transformed MIC Data: pMIC' and 'Curated & Transformed MIC Data: MIC (in µM) (µM)': 130445\n",
      "Rows with values in both 'Curated & Transformed MIC Data: GIC (µg/mL)' and 'Curated & Transformed MIC Data: MIC (in µM) (µM)': 0\n",
      "Rows with values in both 'Curated & Transformed MIC Data: GIC (µg/mL)' and 'Curated & Transformed MIC Data: GIC % inhibition': 1693\n",
      "Rows with values in both 'Extracted & Uploaded MIC Data: MIC (µg/mL)' and 'Extracted & Uploaded MIC Data: MIC (in µM) (µM)': 57530\n",
      "Rows with values in both 'Extracted & Uploaded MIC Data: pMIC' and 'Extracted & Uploaded MIC Data: MIC (in µM) (µM)': 57530\n",
      "Rows with values in both 'Extracted & Uploaded MIC Data: GIC (Growth Inhibition Concentration) (µg/mL)' and 'Extracted & Uploaded MIC Data: MIC (in µM) (µM)': 5\n",
      "Rows with values in both 'Extracted & Uploaded MIC Data: GIC (Growth Inhibition Concentration) (µg/mL)' and 'Extracted & Uploaded MIC Data: GIC % Inhibition (%)': 68\n",
      "Rows with values in both 'Curated & Transformed MIC Data: MIC (in µM) (µM)' and 'Extracted & Uploaded MIC Data: MIC (in µM) (µM)': 53447\n"
     ]
    }
   ],
   "source": [
    "def count_rows_with_both_values(df, column1, column2):\n",
    "    both_non_null = df[column1].notna() & df[column2].notna()\n",
    "    print(f\"Rows with values in both '{column1}' and '{column2}': {both_non_null.sum()}\")\n",
    "\n",
    "count_rows_with_both_values(df,'Curated & Transformed MIC Data: MIC (µg/mL)', 'Curated & Transformed MIC Data: MIC value (µg/mL)')\n",
    "count_rows_with_both_values(df,'Curated & Transformed MIC Data: MIC (µg/mL)', 'Curated & Transformed MIC Data: MIC (in µM) (µM)')\n",
    "count_rows_with_both_values(df,'Curated & Transformed MIC Data: pMIC', 'Curated & Transformed MIC Data: MIC (in µM) (µM)')\n",
    "count_rows_with_both_values(df,'Curated & Transformed MIC Data: GIC (µg/mL)', 'Curated & Transformed MIC Data: MIC (in µM) (µM)')\n",
    "count_rows_with_both_values(df,'Curated & Transformed MIC Data: GIC (µg/mL)', 'Curated & Transformed MIC Data: GIC % inhibition')\n",
    "\n",
    "count_rows_with_both_values(df,'Extracted & Uploaded MIC Data: MIC (µg/mL)', 'Extracted & Uploaded MIC Data: MIC (in µM) (µM)')\n",
    "count_rows_with_both_values(df,'Extracted & Uploaded MIC Data: pMIC', 'Extracted & Uploaded MIC Data: MIC (in µM) (µM)')\n",
    "count_rows_with_both_values(df,'Extracted & Uploaded MIC Data: GIC (Growth Inhibition Concentration) (µg/mL)', 'Extracted & Uploaded MIC Data: MIC (in µM) (µM)')\n",
    "count_rows_with_both_values(df,'Extracted & Uploaded MIC Data: GIC (Growth Inhibition Concentration) (µg/mL)', 'Extracted & Uploaded MIC Data: GIC % Inhibition (%)')\n",
    "\n",
    "count_rows_with_both_values(df,'Curated & Transformed MIC Data: MIC (in µM) (µM)', 'Extracted & Uploaded MIC Data: MIC (in µM) (µM)')"
   ]
  },
  {
   "cell_type": "markdown",
   "metadata": {},
   "source": [
    "## MIC data usage notes:\n",
    "- The unit of preference will be uM for all MIC assays\n",
    "- There are molecules for which there is GIC data but not MIC data. Those will be collected separately and the measure % of inhibition will be used. The 5 molecules overlaping with MIC in the Extracted & Uploaded will not be considered in the GIC.\n",
    "- Curated & transformed has much more data than Extracted and Uploaded. They will be processed separately and then compared. "
   ]
  },
  {
   "cell_type": "code",
   "execution_count": 91,
   "metadata": {},
   "outputs": [
    {
     "data": {
      "text/plain": [
       "24581"
      ]
     },
     "execution_count": 91,
     "metadata": {},
     "output_type": "execute_result"
    }
   ],
   "source": [
    "df['SMILES'].nunique()"
   ]
  },
  {
   "cell_type": "code",
   "execution_count": 100,
   "metadata": {},
   "outputs": [
    {
     "data": {
      "text/plain": [
       "64"
      ]
     },
     "execution_count": 100,
     "metadata": {},
     "output_type": "execute_result"
    }
   ],
   "source": [
    "df['Curated & Transformed MIC Data: Species'].nunique()"
   ]
  },
  {
   "cell_type": "code",
   "execution_count": 98,
   "metadata": {},
   "outputs": [
    {
     "data": {
      "text/plain": [
       "Curated & Transformed MIC Data: Species\n",
       "Acinetobacter anitratus            4\n",
       "Acinetobacter baumannii         5256\n",
       "Acinetobacter calcoaceticus        4\n",
       "Acinetobacter junii               16\n",
       "Alcaligenes xylosus                2\n",
       "                               ...  \n",
       "Streptococcus pyogenes           266\n",
       "Vibrio cholerae                   27\n",
       "Yersinia enterocolitica         1406\n",
       "Yersinia pestis                10003\n",
       "Yersinia pseudotuberculosis       16\n",
       "Length: 64, dtype: int64"
      ]
     },
     "execution_count": 98,
     "metadata": {},
     "output_type": "execute_result"
    }
   ],
   "source": [
    "df.groupby('Curated & Transformed MIC Data: Species').size()"
   ]
  },
  {
   "cell_type": "code",
   "execution_count": 92,
   "metadata": {},
   "outputs": [],
   "source": [
    "df_ = df[~df['Curated & Transformed MIC Data: GIC (µg/mL)'].isna()]"
   ]
  },
  {
   "cell_type": "code",
   "execution_count": 96,
   "metadata": {},
   "outputs": [
    {
     "data": {
      "text/html": [
       "<div>\n",
       "<style scoped>\n",
       "    .dataframe tbody tr th:only-of-type {\n",
       "        vertical-align: middle;\n",
       "    }\n",
       "\n",
       "    .dataframe tbody tr th {\n",
       "        vertical-align: top;\n",
       "    }\n",
       "\n",
       "    .dataframe thead th {\n",
       "        text-align: right;\n",
       "    }\n",
       "</style>\n",
       "<table border=\"1\" class=\"dataframe\">\n",
       "  <thead>\n",
       "    <tr style=\"text-align: right;\">\n",
       "      <th></th>\n",
       "      <th>Curated &amp; Transformed MIC Data: MIC (in µM) (µM)</th>\n",
       "      <th>Curated &amp; Transformed MIC Data: GIC (µg/mL)</th>\n",
       "      <th>Curated &amp; Transformed MIC Data: GIC % inhibition</th>\n",
       "    </tr>\n",
       "  </thead>\n",
       "  <tbody>\n",
       "    <tr>\n",
       "      <th>46110</th>\n",
       "      <td>NaN</td>\n",
       "      <td>&gt; 689</td>\n",
       "      <td>50.0</td>\n",
       "    </tr>\n",
       "    <tr>\n",
       "      <th>46111</th>\n",
       "      <td>NaN</td>\n",
       "      <td>&gt; 689</td>\n",
       "      <td>90.0</td>\n",
       "    </tr>\n",
       "    <tr>\n",
       "      <th>46116</th>\n",
       "      <td>NaN</td>\n",
       "      <td>&gt; 589</td>\n",
       "      <td>50.0</td>\n",
       "    </tr>\n",
       "    <tr>\n",
       "      <th>46117</th>\n",
       "      <td>NaN</td>\n",
       "      <td>&gt; 589</td>\n",
       "      <td>90.0</td>\n",
       "    </tr>\n",
       "    <tr>\n",
       "      <th>46122</th>\n",
       "      <td>NaN</td>\n",
       "      <td>&gt; 708</td>\n",
       "      <td>50.0</td>\n",
       "    </tr>\n",
       "    <tr>\n",
       "      <th>...</th>\n",
       "      <td>...</td>\n",
       "      <td>...</td>\n",
       "      <td>...</td>\n",
       "    </tr>\n",
       "    <tr>\n",
       "      <th>135479</th>\n",
       "      <td>NaN</td>\n",
       "      <td>&lt; 62.9</td>\n",
       "      <td>50.0</td>\n",
       "    </tr>\n",
       "    <tr>\n",
       "      <th>135480</th>\n",
       "      <td>NaN</td>\n",
       "      <td>2.30E+03</td>\n",
       "      <td>50.0</td>\n",
       "    </tr>\n",
       "    <tr>\n",
       "      <th>135481</th>\n",
       "      <td>NaN</td>\n",
       "      <td>980</td>\n",
       "      <td>50.0</td>\n",
       "    </tr>\n",
       "    <tr>\n",
       "      <th>135482</th>\n",
       "      <td>NaN</td>\n",
       "      <td>84.5</td>\n",
       "      <td>50.0</td>\n",
       "    </tr>\n",
       "    <tr>\n",
       "      <th>135483</th>\n",
       "      <td>NaN</td>\n",
       "      <td>526</td>\n",
       "      <td>50.0</td>\n",
       "    </tr>\n",
       "  </tbody>\n",
       "</table>\n",
       "<p>1693 rows × 3 columns</p>\n",
       "</div>"
      ],
      "text/plain": [
       "       Curated & Transformed MIC Data: MIC (in µM) (µM)  \\\n",
       "46110                                               NaN   \n",
       "46111                                               NaN   \n",
       "46116                                               NaN   \n",
       "46117                                               NaN   \n",
       "46122                                               NaN   \n",
       "...                                                 ...   \n",
       "135479                                              NaN   \n",
       "135480                                              NaN   \n",
       "135481                                              NaN   \n",
       "135482                                              NaN   \n",
       "135483                                              NaN   \n",
       "\n",
       "       Curated & Transformed MIC Data: GIC (µg/mL)  \\\n",
       "46110                                        > 689   \n",
       "46111                                        > 689   \n",
       "46116                                        > 589   \n",
       "46117                                        > 589   \n",
       "46122                                        > 708   \n",
       "...                                            ...   \n",
       "135479                                      < 62.9   \n",
       "135480                                    2.30E+03   \n",
       "135481                                         980   \n",
       "135482                                        84.5   \n",
       "135483                                         526   \n",
       "\n",
       "        Curated & Transformed MIC Data: GIC % inhibition  \n",
       "46110                                               50.0  \n",
       "46111                                               90.0  \n",
       "46116                                               50.0  \n",
       "46117                                               90.0  \n",
       "46122                                               50.0  \n",
       "...                                                  ...  \n",
       "135479                                              50.0  \n",
       "135480                                              50.0  \n",
       "135481                                              50.0  \n",
       "135482                                              50.0  \n",
       "135483                                              50.0  \n",
       "\n",
       "[1693 rows x 3 columns]"
      ]
     },
     "execution_count": 96,
     "metadata": {},
     "output_type": "execute_result"
    }
   ],
   "source": [
    "df_[[\"Curated & Transformed MIC Data: MIC (in µM) (µM)\",'Curated & Transformed MIC Data: GIC (µg/mL)',\"Curated & Transformed MIC Data: GIC % inhibition\"]]"
   ]
  },
  {
   "cell_type": "code",
   "execution_count": 122,
   "metadata": {},
   "outputs": [
    {
     "data": {
      "text/html": [
       "<div>\n",
       "<style scoped>\n",
       "    .dataframe tbody tr th:only-of-type {\n",
       "        vertical-align: middle;\n",
       "    }\n",
       "\n",
       "    .dataframe tbody tr th {\n",
       "        vertical-align: top;\n",
       "    }\n",
       "\n",
       "    .dataframe thead th {\n",
       "        text-align: right;\n",
       "    }\n",
       "</style>\n",
       "<table border=\"1\" class=\"dataframe\">\n",
       "  <thead>\n",
       "    <tr style=\"text-align: right;\">\n",
       "      <th></th>\n",
       "      <th>Curated &amp; Transformed MIC Data: MIC (µg/mL)</th>\n",
       "      <th>Curated &amp; Transformed MIC Data: MIC value (µg/mL)</th>\n",
       "      <th>Curated &amp; Transformed MIC Data: Species</th>\n",
       "    </tr>\n",
       "  </thead>\n",
       "  <tbody>\n",
       "    <tr>\n",
       "      <th>0</th>\n",
       "      <td>NaN</td>\n",
       "      <td>NaN</td>\n",
       "      <td>NaN</td>\n",
       "    </tr>\n",
       "    <tr>\n",
       "      <th>1</th>\n",
       "      <td>&gt; 32.0</td>\n",
       "      <td>&gt; 32.0</td>\n",
       "      <td>Staphylococcus aureus</td>\n",
       "    </tr>\n",
       "    <tr>\n",
       "      <th>2</th>\n",
       "      <td>16.0</td>\n",
       "      <td>16.0</td>\n",
       "      <td>Escherichia coli</td>\n",
       "    </tr>\n",
       "    <tr>\n",
       "      <th>3</th>\n",
       "      <td>&gt; 32.0</td>\n",
       "      <td>&gt; 32.0</td>\n",
       "      <td>Escherichia coli</td>\n",
       "    </tr>\n",
       "    <tr>\n",
       "      <th>4</th>\n",
       "      <td>NaN</td>\n",
       "      <td>NaN</td>\n",
       "      <td>NaN</td>\n",
       "    </tr>\n",
       "    <tr>\n",
       "      <th>...</th>\n",
       "      <td>...</td>\n",
       "      <td>...</td>\n",
       "      <td>...</td>\n",
       "    </tr>\n",
       "    <tr>\n",
       "      <th>137567</th>\n",
       "      <td>2.67</td>\n",
       "      <td>2.67</td>\n",
       "      <td>Escherichia coli</td>\n",
       "    </tr>\n",
       "    <tr>\n",
       "      <th>137568</th>\n",
       "      <td>1.34</td>\n",
       "      <td>1.34</td>\n",
       "      <td>Klebsiella pneumoniae</td>\n",
       "    </tr>\n",
       "    <tr>\n",
       "      <th>137569</th>\n",
       "      <td>&gt; 2.67</td>\n",
       "      <td>&gt; 2.67</td>\n",
       "      <td>Acinetobacter baumannii</td>\n",
       "    </tr>\n",
       "    <tr>\n",
       "      <th>137570</th>\n",
       "      <td>&gt; 2.67</td>\n",
       "      <td>&gt; 2.67</td>\n",
       "      <td>Pseudomonas aeruginosa</td>\n",
       "    </tr>\n",
       "    <tr>\n",
       "      <th>137571</th>\n",
       "      <td>1.34</td>\n",
       "      <td>1.34</td>\n",
       "      <td>Escherichia coli</td>\n",
       "    </tr>\n",
       "  </tbody>\n",
       "</table>\n",
       "<p>137572 rows × 3 columns</p>\n",
       "</div>"
      ],
      "text/plain": [
       "       Curated & Transformed MIC Data: MIC (µg/mL)  \\\n",
       "0                                              NaN   \n",
       "1                                           > 32.0   \n",
       "2                                             16.0   \n",
       "3                                           > 32.0   \n",
       "4                                              NaN   \n",
       "...                                            ...   \n",
       "137567                                        2.67   \n",
       "137568                                        1.34   \n",
       "137569                                      > 2.67   \n",
       "137570                                      > 2.67   \n",
       "137571                                        1.34   \n",
       "\n",
       "       Curated & Transformed MIC Data: MIC value (µg/mL)  \\\n",
       "0                                                    NaN   \n",
       "1                                                 > 32.0   \n",
       "2                                                   16.0   \n",
       "3                                                 > 32.0   \n",
       "4                                                    NaN   \n",
       "...                                                  ...   \n",
       "137567                                              2.67   \n",
       "137568                                              1.34   \n",
       "137569                                            > 2.67   \n",
       "137570                                            > 2.67   \n",
       "137571                                              1.34   \n",
       "\n",
       "       Curated & Transformed MIC Data: Species  \n",
       "0                                          NaN  \n",
       "1                        Staphylococcus aureus  \n",
       "2                             Escherichia coli  \n",
       "3                             Escherichia coli  \n",
       "4                                          NaN  \n",
       "...                                        ...  \n",
       "137567                        Escherichia coli  \n",
       "137568                   Klebsiella pneumoniae  \n",
       "137569                 Acinetobacter baumannii  \n",
       "137570                  Pseudomonas aeruginosa  \n",
       "137571                        Escherichia coli  \n",
       "\n",
       "[137572 rows x 3 columns]"
      ]
     },
     "execution_count": 122,
     "metadata": {},
     "output_type": "execute_result"
    }
   ],
   "source": [
    "df[[\"Curated & Transformed MIC Data: MIC (µg/mL)\", \"Curated & Transformed MIC Data: MIC value (µg/mL)\", \"Curated & Transformed MIC Data: Species\"]]"
   ]
  },
  {
   "cell_type": "code",
   "execution_count": 104,
   "metadata": {},
   "outputs": [
    {
     "data": {
      "text/plain": [
       "155734"
      ]
     },
     "execution_count": 104,
     "metadata": {},
     "output_type": "execute_result"
    }
   ],
   "source": [
    "df = pd.read_csv(os.path.join(DATAPATH,\"SPARK Data Compounds & Physicochemical Properties.csv\"), low_memory=False)\n",
    "df.columns\n",
    "df[\"InChI\"].nunique()"
   ]
  },
  {
   "cell_type": "code",
   "execution_count": null,
   "metadata": {},
   "outputs": [],
   "source": []
  }
 ],
 "metadata": {
  "kernelspec": {
   "display_name": "chem",
   "language": "python",
   "name": "python3"
  },
  "language_info": {
   "codemirror_mode": {
    "name": "ipython",
    "version": 3
   },
   "file_extension": ".py",
   "mimetype": "text/x-python",
   "name": "python",
   "nbconvert_exporter": "python",
   "pygments_lexer": "ipython3",
   "version": "3.11.9"
  }
 },
 "nbformat": 4,
 "nbformat_minor": 2
}
