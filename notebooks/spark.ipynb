{
 "cells": [
  {
   "cell_type": "code",
   "execution_count": 17,
   "metadata": {},
   "outputs": [],
   "source": [
    "import pandas as pd\n",
    "import os\n",
    "\n",
    "DATAPATH = \"../data/spark/preprocessed\"\n",
    "\n",
    "data_files=os.listdir(DATAPATH)\n",
    "data_files = [d for d in data_files if d.endswith(\".csv\")]"
   ]
  },
  {
   "cell_type": "code",
   "execution_count": 104,
   "metadata": {},
   "outputs": [
    {
     "data": {
      "text/plain": [
       "155734"
      ]
     },
     "execution_count": 104,
     "metadata": {},
     "output_type": "execute_result"
    }
   ],
   "source": [
    "df = pd.read_csv(os.path.join(DATAPATH,\"SPARK Data Compounds & Physicochemical Properties.csv\"), low_memory=False)\n",
    "df.columns\n",
    "df[\"InChI\"].nunique()"
   ]
  },
  {
   "cell_type": "code",
   "execution_count": null,
   "metadata": {},
   "outputs": [],
   "source": [
    "df = pd.read_csv(os.path.join(DATAPATH,\"SPARK Accumulation Data.csv\"), low_memory=False)\n",
    "print(df.columns)\n",
    "df.groupby(\"Curated & Transformed Accumulation Data: Species\").size()\n",
    "df[\"SMILES\"].nunique()"
   ]
  },
  {
   "cell_type": "code",
   "execution_count": null,
   "metadata": {},
   "outputs": [],
   "source": [
    "df = pd.read_csv(os.path.join(DATAPATH,\"SPARK Data Merck & Kyorin Contribution.csv\"), low_memory=False)\n",
    "print(df.columns)\n",
    "df[\"SMILES\"].nunique()\n",
    "df.groupby(\"Curated & Transformed MIC Data: Species\").size()"
   ]
  },
  {
   "cell_type": "code",
   "execution_count": null,
   "metadata": {},
   "outputs": [],
   "source": [
    "df = pd.read_csv(os.path.join(DATAPATH,\"SPARK Data Quave Lab {Emory University} Publications.csv\"), low_memory=False)\n",
    "print(df.columns)\n",
    "df=df[~df['SMILES'].isna()]\n",
    "len(df)\n",
    "len(df[\"SMILES\"].unique())\n",
    "len(df[df['Porras 2020 Chem. Rev. XX:XXXX: MIC (in µM) (µM)'].isna()])\n",
    "len(df['Porras 2020 Chem. Rev. XX:XXXX: Species'].unique())"
   ]
  },
  {
   "cell_type": "code",
   "execution_count": null,
   "metadata": {},
   "outputs": [],
   "source": [
    "df = pd.read_csv(os.path.join(DATAPATH,\"SPARK Data Novartis Contribution.csv\"), low_memory=False)\n",
    "print(df.columns)\n",
    "df[\"SMILES\"].nunique()\n",
    "df.groupby(\"Curated & Transformed MIC Data: Species\").size()\n",
    "df.groupby(\"Curated & Transformed IC50 Data: Species\").size()"
   ]
  },
  {
   "cell_type": "code",
   "execution_count": null,
   "metadata": {},
   "outputs": [],
   "source": [
    "df = pd.read_csv(os.path.join(DATAPATH,\"SPARK Data Achaogen Contribution.csv\"), low_memory=False)\n",
    "cols = df.columns\n",
    "for c in cols:\n",
    "    print(c)\n",
    "df[\"SMILES\"].nunique()\n",
    "df_ = df[~df['Achaogen LpxC MIC50/90 data: MIC90 (ug/mL)'].isna()]\n",
    "#df_.groupby(\"Curated & Transformed IC50 Data: Species\").size()\n",
    "df_[\"SMILES\"].unique()"
   ]
  },
  {
   "cell_type": "code",
   "execution_count": null,
   "metadata": {},
   "outputs": [],
   "source": [
    "df = pd.read_csv(os.path.join(DATAPATH,\"SPARK Data CO-ADD Contribution.csv\"), low_memory=False)\n",
    "df.columns\n",
    "#df[\"SMILES\"].nunique()\n",
    "#df.groupby('CO-ADD Single Concentration Data (Inhibition): Species').size()"
   ]
  },
  {
   "cell_type": "code",
   "execution_count": null,
   "metadata": {},
   "outputs": [],
   "source": [
    "df = pd.read_csv(os.path.join(DATAPATH,\"SPARK IC50 Data.csv\"), low_memory=False)\n",
    "df.columns\n",
    "df[\"SMILES\"].nunique()\n",
    "df.groupby('Extracted & Uploaded IC50 Data: Species').size()"
   ]
  },
  {
   "cell_type": "code",
   "execution_count": null,
   "metadata": {},
   "outputs": [],
   "source": [
    "df = pd.read_csv(os.path.join(DATAPATH,\"SPARK MIC Data.csv\"), low_memory=False)\n",
    "cols = df.columns\n",
    "for c in cols:\n",
    "    print(c)"
   ]
  },
  {
   "cell_type": "code",
   "execution_count": 11,
   "metadata": {},
   "outputs": [
    {
     "name": "stdout",
     "output_type": "stream",
     "text": [
      "Rows with values in 'Curated & Transformed MIC Data: MIC (µg/mL)' but not in 'Curated & Transformed MIC Data: MIC value (µg/mL)': 0\n",
      "Rows with values in 'Curated & Transformed MIC Data: MIC value (µg/mL)' but not in 'Curated & Transformed MIC Data: MIC (µg/mL)': 0\n",
      "Rows with values in 'Curated & Transformed MIC Data: MIC (µg/mL)' but not in 'Curated & Transformed MIC Data: MIC (in µM) (µM)': 0\n",
      "Rows with values in 'Curated & Transformed MIC Data: MIC (in µM) (µM)' but not in 'Curated & Transformed MIC Data: MIC (µg/mL)': 0\n",
      "Rows with values in 'Curated & Transformed MIC Data: pMIC' but not in 'Curated & Transformed MIC Data: MIC (in µM) (µM)': 0\n",
      "Rows with values in 'Curated & Transformed MIC Data: MIC (in µM) (µM)' but not in 'Curated & Transformed MIC Data: pMIC': 0\n",
      "Rows with values in 'Curated & Transformed MIC Data: GIC (µg/mL)' but not in 'Curated & Transformed MIC Data: MIC (in µM) (µM)': 1693\n",
      "Rows with values in 'Curated & Transformed MIC Data: MIC (in µM) (µM)' but not in 'Curated & Transformed MIC Data: GIC (µg/mL)': 130445\n",
      "Rows with values in 'Curated & Transformed MIC Data: GIC (µg/mL)' but not in 'Curated & Transformed MIC Data: GIC % inhibition': 0\n",
      "Rows with values in 'Curated & Transformed MIC Data: GIC % inhibition' but not in 'Curated & Transformed MIC Data: GIC (µg/mL)': 0\n",
      "Rows with values in 'Extracted & Uploaded MIC Data: MIC (µg/mL)' but not in 'Extracted & Uploaded MIC Data: MIC (in µM) (µM)': 0\n",
      "Rows with values in 'Extracted & Uploaded MIC Data: MIC (in µM) (µM)' but not in 'Extracted & Uploaded MIC Data: MIC (µg/mL)': 0\n",
      "Rows with values in 'Extracted & Uploaded MIC Data: pMIC' but not in 'Extracted & Uploaded MIC Data: MIC (in µM) (µM)': 0\n",
      "Rows with values in 'Extracted & Uploaded MIC Data: MIC (in µM) (µM)' but not in 'Extracted & Uploaded MIC Data: pMIC': 0\n",
      "Rows with values in 'Extracted & Uploaded MIC Data: GIC (Growth Inhibition Concentration) (µg/mL)' but not in 'Extracted & Uploaded MIC Data: MIC (in µM) (µM)': 68\n",
      "Rows with values in 'Extracted & Uploaded MIC Data: MIC (in µM) (µM)' but not in 'Extracted & Uploaded MIC Data: GIC (Growth Inhibition Concentration) (µg/mL)': 57525\n",
      "Rows with values in 'Extracted & Uploaded MIC Data: GIC (Growth Inhibition Concentration) (µg/mL)' but not in 'Extracted & Uploaded MIC Data: GIC % Inhibition (%)': 5\n",
      "Rows with values in 'Extracted & Uploaded MIC Data: GIC % Inhibition (%)' but not in 'Extracted & Uploaded MIC Data: GIC (Growth Inhibition Concentration) (µg/mL)': 0\n",
      "Rows with values in 'Curated & Transformed MIC Data: MIC (in µM) (µM)' but not in 'Extracted & Uploaded MIC Data: MIC (in µM) (µM)': 76998\n",
      "Rows with values in 'Extracted & Uploaded MIC Data: MIC (in µM) (µM)' but not in 'Curated & Transformed MIC Data: MIC (in µM) (µM)': 4083\n"
     ]
    }
   ],
   "source": [
    "# check if experiments are properly translated between different ways of representing\n",
    "def check_discrepancies(df, col1, col2):\n",
    "    # Check for rows with values in column1 but not in column2\n",
    "    col1_not_col2 = df[col1].notna() & df[col2].isna()\n",
    "    # Check for rows with values in column2 but not in column1\n",
    "    col2_not_col1 = df[col2].notna() & df[col1].isna()\n",
    "    print(f\"Rows with values in '{col1}' but not in '{col2}': {col1_not_col2.sum()}\")\n",
    "    print(f\"Rows with values in '{col2}' but not in '{col1}': {col2_not_col1.sum()}\")\n",
    "\n",
    "check_discrepancies(df,'Curated & Transformed MIC Data: MIC (µg/mL)', 'Curated & Transformed MIC Data: MIC value (µg/mL)')\n",
    "check_discrepancies(df,'Curated & Transformed MIC Data: MIC (µg/mL)', 'Curated & Transformed MIC Data: MIC (in µM) (µM)')\n",
    "check_discrepancies(df,'Curated & Transformed MIC Data: pMIC', 'Curated & Transformed MIC Data: MIC (in µM) (µM)')\n",
    "check_discrepancies(df,'Curated & Transformed MIC Data: GIC (µg/mL)', 'Curated & Transformed MIC Data: MIC (in µM) (µM)')\n",
    "check_discrepancies(df,'Curated & Transformed MIC Data: GIC (µg/mL)', 'Curated & Transformed MIC Data: GIC % inhibition')\n",
    "\n",
    "check_discrepancies(df,'Extracted & Uploaded MIC Data: MIC (µg/mL)', 'Extracted & Uploaded MIC Data: MIC (in µM) (µM)')\n",
    "check_discrepancies(df,'Extracted & Uploaded MIC Data: pMIC', 'Extracted & Uploaded MIC Data: MIC (in µM) (µM)')\n",
    "check_discrepancies(df,'Extracted & Uploaded MIC Data: GIC (Growth Inhibition Concentration) (µg/mL)', 'Extracted & Uploaded MIC Data: MIC (in µM) (µM)')\n",
    "check_discrepancies(df,'Extracted & Uploaded MIC Data: GIC (Growth Inhibition Concentration) (µg/mL)', 'Extracted & Uploaded MIC Data: GIC % Inhibition (%)')\n",
    "\n",
    "check_discrepancies(df,'Curated & Transformed MIC Data: MIC (in µM) (µM)', 'Extracted & Uploaded MIC Data: MIC (in µM) (µM)')"
   ]
  },
  {
   "cell_type": "code",
   "execution_count": 12,
   "metadata": {},
   "outputs": [
    {
     "name": "stdout",
     "output_type": "stream",
     "text": [
      "Rows with values in both 'Curated & Transformed MIC Data: MIC (µg/mL)' and 'Curated & Transformed MIC Data: MIC value (µg/mL)': 130445\n",
      "Rows with values in both 'Curated & Transformed MIC Data: MIC (µg/mL)' and 'Curated & Transformed MIC Data: MIC (in µM) (µM)': 130445\n",
      "Rows with values in both 'Curated & Transformed MIC Data: pMIC' and 'Curated & Transformed MIC Data: MIC (in µM) (µM)': 130445\n",
      "Rows with values in both 'Curated & Transformed MIC Data: GIC (µg/mL)' and 'Curated & Transformed MIC Data: MIC (in µM) (µM)': 0\n",
      "Rows with values in both 'Curated & Transformed MIC Data: GIC (µg/mL)' and 'Curated & Transformed MIC Data: GIC % inhibition': 1693\n",
      "Rows with values in both 'Extracted & Uploaded MIC Data: MIC (µg/mL)' and 'Extracted & Uploaded MIC Data: MIC (in µM) (µM)': 57530\n",
      "Rows with values in both 'Extracted & Uploaded MIC Data: pMIC' and 'Extracted & Uploaded MIC Data: MIC (in µM) (µM)': 57530\n",
      "Rows with values in both 'Extracted & Uploaded MIC Data: GIC (Growth Inhibition Concentration) (µg/mL)' and 'Extracted & Uploaded MIC Data: MIC (in µM) (µM)': 5\n",
      "Rows with values in both 'Extracted & Uploaded MIC Data: GIC (Growth Inhibition Concentration) (µg/mL)' and 'Extracted & Uploaded MIC Data: GIC % Inhibition (%)': 68\n",
      "Rows with values in both 'Curated & Transformed MIC Data: MIC (in µM) (µM)' and 'Extracted & Uploaded MIC Data: MIC (in µM) (µM)': 53447\n"
     ]
    }
   ],
   "source": [
    "def count_rows_with_both_values(df, column1, column2):\n",
    "    both_non_null = df[column1].notna() & df[column2].notna()\n",
    "    print(f\"Rows with values in both '{column1}' and '{column2}': {both_non_null.sum()}\")\n",
    "\n",
    "count_rows_with_both_values(df,'Curated & Transformed MIC Data: MIC (µg/mL)', 'Curated & Transformed MIC Data: MIC value (µg/mL)')\n",
    "count_rows_with_both_values(df,'Curated & Transformed MIC Data: MIC (µg/mL)', 'Curated & Transformed MIC Data: MIC (in µM) (µM)')\n",
    "count_rows_with_both_values(df,'Curated & Transformed MIC Data: pMIC', 'Curated & Transformed MIC Data: MIC (in µM) (µM)')\n",
    "count_rows_with_both_values(df,'Curated & Transformed MIC Data: GIC (µg/mL)', 'Curated & Transformed MIC Data: MIC (in µM) (µM)')\n",
    "count_rows_with_both_values(df,'Curated & Transformed MIC Data: GIC (µg/mL)', 'Curated & Transformed MIC Data: GIC % inhibition')\n",
    "\n",
    "count_rows_with_both_values(df,'Extracted & Uploaded MIC Data: MIC (µg/mL)', 'Extracted & Uploaded MIC Data: MIC (in µM) (µM)')\n",
    "count_rows_with_both_values(df,'Extracted & Uploaded MIC Data: pMIC', 'Extracted & Uploaded MIC Data: MIC (in µM) (µM)')\n",
    "count_rows_with_both_values(df,'Extracted & Uploaded MIC Data: GIC (Growth Inhibition Concentration) (µg/mL)', 'Extracted & Uploaded MIC Data: MIC (in µM) (µM)')\n",
    "count_rows_with_both_values(df,'Extracted & Uploaded MIC Data: GIC (Growth Inhibition Concentration) (µg/mL)', 'Extracted & Uploaded MIC Data: GIC % Inhibition (%)')\n",
    "\n",
    "count_rows_with_both_values(df,'Curated & Transformed MIC Data: MIC (in µM) (µM)', 'Extracted & Uploaded MIC Data: MIC (in µM) (µM)')"
   ]
  },
  {
   "cell_type": "markdown",
   "metadata": {},
   "source": [
    "### MIC data usage notes:\n",
    "- The unit of preference will be uM for all MIC assays\n",
    "- There are molecules for which there is GIC data but not MIC data. Those will be collected separately and the measure % of inhibition will be used. The 5 molecules overlaping with MIC in the Extracted & Uploaded will not be considered in the GIC.\n",
    "If there are molecules with both GIC and MIC only MIC will be considered.\n",
    "- Curated & transformed has much more data than Extracted and Uploaded. They will be processed separately and then compared. "
   ]
  },
  {
   "cell_type": "code",
   "execution_count": null,
   "metadata": {},
   "outputs": [],
   "source": [
    "print(df['SMILES'].nunique())\n",
    "print(df['Curated & Transformed MIC Data: Species'].nunique())\n",
    "df.groupby('Curated & Transformed MIC Data: Species').size()"
   ]
  },
  {
   "cell_type": "markdown",
   "metadata": {},
   "source": [
    "# Correlation between files"
   ]
  },
  {
   "cell_type": "code",
   "execution_count": 31,
   "metadata": {},
   "outputs": [],
   "source": [
    "# Files with MIC data\n",
    "mic_files = {\n",
    "    \"mk\": [pd.read_csv(os.path.join(DATAPATH,\"SPARK Data Merck & Kyorin Contribution.csv\"), low_memory=False),\n",
    "           'Curated & Transformed MIC Data: MIC (in µM) (µM)', 'Curated & Transformed MIC Data: MIC (µg/mL)', 'Curated & Transformed MIC Data: Species', 'Curated & Transformed MIC Data: Strain'],\n",
    "    \"qe\" :[pd.read_csv(os.path.join(DATAPATH,\"SPARK Data Quave Lab {Emory University} Publications.csv\"), low_memory=False),\n",
    "            'Porras 2020 Chem. Rev. XX:XXXX: MIC (in µM) (µM)', 'Porras 2020 Chem. Rev. XX:XXXX: MIC value (µg/mL)', 'Porras 2020 Chem. Rev. XX:XXXX: Species', 'Porras 2020 Chem. Rev. XX:XXXX: Strain'],\n",
    "    \"no\": [pd.read_csv(os.path.join(DATAPATH,\"SPARK Data Novartis Contribution.csv\"), low_memory=False),\n",
    "           'Curated & Transformed MIC Data: MIC (in µM) (µM)', 'Curated & Transformed MIC Data: MIC (µg/mL)', 'Curated & Transformed MIC Data: Species', 'Curated & Transformed MIC Data: Strain'],\n",
    "    \"ac\": [pd.read_csv(os.path.join(DATAPATH,\"SPARK Data Achaogen Contribution.csv\"), low_memory=False),\n",
    "              'Curated & Transformed MIC Data: MIC (in µM) (µM)', 'Curated & Transformed MIC Data: MIC (µg/mL)','Curated & Transformed MIC Data: Species', 'Curated & Transformed MIC Data: Strain'],\n",
    "    \"co\": [pd.read_csv(os.path.join(DATAPATH,\"SPARK Data CO-ADD Contribution.csv\"), low_memory=False),\n",
    "              'Curated & Transformed MIC Data: MIC (in µM) (µM)','Curated & Transformed MIC Data: MIC (µg/mL)','Curated & Transformed MIC Data: Species', 'Curated & Transformed MIC Data: Strain']\n",
    "           }\n",
    "mic = pd.read_csv(os.path.join(DATAPATH,\"SPARK MIC Data.csv\"), low_memory=False)"
   ]
  },
  {
   "cell_type": "code",
   "execution_count": 19,
   "metadata": {},
   "outputs": [
    {
     "name": "stdout",
     "output_type": "stream",
     "text": [
      "Rows with values in 'Curated & Transformed MIC Data: MIC (in µM) (µM)' but not in 'Curated & Transformed MIC Data: MIC (µg/mL)': 0\n",
      "Rows with values in 'Curated & Transformed MIC Data: MIC (µg/mL)' but not in 'Curated & Transformed MIC Data: MIC (in µM) (µM)': 0\n",
      "Rows with values in 'Porras 2020 Chem. Rev. XX:XXXX: MIC (in µM) (µM)' but not in 'Porras 2020 Chem. Rev. XX:XXXX: MIC value (µg/mL)': 0\n",
      "Rows with values in 'Porras 2020 Chem. Rev. XX:XXXX: MIC value (µg/mL)' but not in 'Porras 2020 Chem. Rev. XX:XXXX: MIC (in µM) (µM)': 0\n",
      "Rows with values in 'Curated & Transformed MIC Data: MIC (in µM) (µM)' but not in 'Curated & Transformed MIC Data: MIC (µg/mL)': 0\n",
      "Rows with values in 'Curated & Transformed MIC Data: MIC (µg/mL)' but not in 'Curated & Transformed MIC Data: MIC (in µM) (µM)': 0\n",
      "Rows with values in 'Curated & Transformed MIC Data: MIC (in µM) (µM)' but not in 'Curated & Transformed MIC Data: MIC (µg/mL)': 0\n",
      "Rows with values in 'Curated & Transformed MIC Data: MIC (µg/mL)' but not in 'Curated & Transformed MIC Data: MIC (in µM) (µM)': 0\n",
      "Rows with values in 'Curated & Transformed MIC Data: MIC (in µM) (µM)' but not in 'Curated & Transformed MIC Data: MIC (µg/mL)': 0\n",
      "Rows with values in 'Curated & Transformed MIC Data: MIC (µg/mL)' but not in 'Curated & Transformed MIC Data: MIC (in µM) (µM)': 0\n"
     ]
    }
   ],
   "source": [
    "def check_discrepancies(df, col1, col2):\n",
    "    # Check for rows with values in column1 but not in column2\n",
    "    col1_not_col2 = df[col1].notna() & df[col2].isna()\n",
    "    # Check for rows with values in column2 but not in column1\n",
    "    col2_not_col1 = df[col2].notna() & df[col1].isna()\n",
    "    print(f\"Rows with values in '{col1}' but not in '{col2}': {col1_not_col2.sum()}\")\n",
    "    print(f\"Rows with values in '{col2}' but not in '{col1}': {col2_not_col1.sum()}\")\n",
    "\n",
    "for k,v in mic_files.items():\n",
    "    check_discrepancies(v[0],v[1],v[2])"
   ]
  },
  {
   "cell_type": "code",
   "execution_count": 21,
   "metadata": {},
   "outputs": [
    {
     "name": "stdout",
     "output_type": "stream",
     "text": [
      "Dataset mk:\n",
      "  Total SMILES in dataset: 249\n",
      "  Missing SMILES (not in mic): 0\n",
      "Dataset qe:\n",
      "  Total SMILES in dataset: 443\n",
      "  Missing SMILES (not in mic): 420\n",
      "Dataset no:\n",
      "  Total SMILES in dataset: 1576\n",
      "  Missing SMILES (not in mic): 0\n",
      "Dataset ac:\n",
      "  Total SMILES in dataset: 1861\n",
      "  Missing SMILES (not in mic): 0\n",
      "Dataset co:\n",
      "  Total SMILES in dataset: 1015\n",
      "  Missing SMILES (not in mic): 0\n"
     ]
    }
   ],
   "source": [
    "for k, v in mic_files.items():\n",
    "    df, column_name = v[:2]  # Unpack DataFrame and column name\n",
    "    filtered_df = df[df[column_name].notna()]  # Filter rows where the column is not null\n",
    "    mic_files[k][0] = filtered_df  # Update the filtered DataFrame back into mic_files\n",
    "    \n",
    "    # Unique SMILES in the current dataset\n",
    "    smiles_in_dataset = set(filtered_df['smiles'].unique())\n",
    "    \n",
    "    # Unique SMILES in the main mic dataset\n",
    "    smiles_in_mic = set(mic['smiles'].unique())\n",
    "    \n",
    "    # SMILES in the current dataset but not in the mic dataset\n",
    "    missing_smiles = smiles_in_dataset - smiles_in_mic\n",
    "    \n",
    "    print(f\"Dataset {k}:\")\n",
    "    print(f\"  Total SMILES in dataset: {len(smiles_in_dataset)}\")\n",
    "    print(f\"  Missing SMILES (not in mic): {len(missing_smiles)}\")"
   ]
  },
  {
   "cell_type": "code",
   "execution_count": 26,
   "metadata": {},
   "outputs": [
    {
     "name": "stdout",
     "output_type": "stream",
     "text": [
      "Files Smiles:  5093 MIC Smiles:  24516\n",
      "Only in MIC: 19843\n",
      "Only in Files: 420\n"
     ]
    }
   ],
   "source": [
    "#check if MIC contains SMILES that are not present in any of the single files:\n",
    "\n",
    "all_smiles = []\n",
    "for k,v in mic_files.items():\n",
    "    smi = v[0][\"smiles\"].tolist()\n",
    "    all_smiles.extend(smi)\n",
    "\n",
    "# Extract the unique smiles from the mic dataset\n",
    "mic_smiles = mic[\"smiles\"].drop_duplicates().tolist()\n",
    "\n",
    "# Compare the sets of smiles\n",
    "only_mic = set(mic_smiles) - set(all_smiles)\n",
    "only_files = set(all_smiles) - set(mic_smiles)\n",
    "\n",
    "# Print the results\n",
    "print(\"Files Smiles: \", len(set(all_smiles)), \"MIC Smiles: \", len(set(mic_smiles)))\n",
    "print(\"Only in MIC:\", len(list(only_mic)))\n",
    "print(\"Only in Files:\", len(list(only_files)))\n"
   ]
  },
  {
   "cell_type": "code",
   "execution_count": null,
   "metadata": {},
   "outputs": [],
   "source": [
    "# Strains\n",
    "mic_ =  mic[mic[\"Curated & Transformed MIC Data: Species\"]==\"Acinetobacter baumannii\"]\n",
    "mic_.groupby(\"Curated & Transformed MIC Data: Strain\").size()\n",
    "strains = mic_.value_counts(\"Curated & Transformed MIC Data: Strain\")\n",
    "strains = strains.reset_index()\n",
    "strains.rename(columns={\"Curated & Transformed MIC Data: Strain\": \"Strain\", \"count\": \"MIC count\"}, inplace=True)\n",
    "strains.to_csv(os.path.join(DATAPATH, \"abaumannii_strains.csv\"), index=False)"
   ]
  },
  {
   "cell_type": "code",
   "execution_count": 32,
   "metadata": {},
   "outputs": [
    {
     "name": "stdout",
     "output_type": "stream",
     "text": [
      "mk\n",
      "Curated & Transformed MIC Data: Strain\n",
      "IID876    252\n",
      "Name: count, dtype: int64\n",
      "qe\n",
      "Series([], Name: count, dtype: int64)\n",
      "no\n",
      "Curated & Transformed MIC Data: Strain\n",
      "NB48015            183\n",
      "NB48015-XYL0003    182\n",
      "NB48015-XYL0005    182\n",
      "Name: count, dtype: int64\n",
      "ac\n",
      "Curated & Transformed MIC Data: Strain\n",
      "AABA1060    1536\n",
      "Name: count, dtype: int64\n",
      "co\n",
      "Curated & Transformed MIC Data: Strain\n",
      "ATCC 19606    1432\n",
      "Name: count, dtype: int64\n"
     ]
    }
   ],
   "source": [
    "for k,v in mic_files.items():\n",
    "    print(k)\n",
    "    v[0] = v[0][v[0][v[3]]==\"Acinetobacter baumannii\"]\n",
    "    print(v[0].value_counts(v[4]))"
   ]
  },
  {
   "cell_type": "code",
   "execution_count": null,
   "metadata": {},
   "outputs": [],
   "source": []
  }
 ],
 "metadata": {
  "kernelspec": {
   "display_name": "chem",
   "language": "python",
   "name": "python3"
  },
  "language_info": {
   "codemirror_mode": {
    "name": "ipython",
    "version": 3
   },
   "file_extension": ".py",
   "mimetype": "text/x-python",
   "name": "python",
   "nbconvert_exporter": "python",
   "pygments_lexer": "ipython3",
   "version": "3.11.8"
  }
 },
 "nbformat": 4,
 "nbformat_minor": 2
}
